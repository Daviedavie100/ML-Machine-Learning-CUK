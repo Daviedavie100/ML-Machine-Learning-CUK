{
 "cells": [
  {
   "cell_type": "code",
   "execution_count": null,
   "id": "e1f1d5df-c93d-406e-8a12-dbe70ddb958b",
   "metadata": {},
   "outputs": [],
   "source": [
    "# Imports"
   ]
  },
  {
   "cell_type": "code",
   "execution_count": 10,
   "id": "54a56c5e-f3ba-412a-98f1-6c20b2779d4a",
   "metadata": {},
   "outputs": [],
   "source": [
    "# load imports\n",
    "import pandas as pd\n",
    "import requests\n",
    "import zipfile\n",
    "import io\n",
    "import os"
   ]
  },
  {
   "cell_type": "code",
   "execution_count": null,
   "id": "2f4a28e1-4465-47bc-b055-c89d0d3d2333",
   "metadata": {},
   "outputs": [],
   "source": [
    "# download the datasets from kaggle\n",
    "\n",
    "# Kaggle dataset download link\n",
    "url = \"https://www.kaggle.com/api/v1/datasets/download/olistbr/brazilian-ecommerce\"\n",
    "# Destination folder\n",
    "extract_dir = os.path.expanduser(\"~/Documents/GitHub/ML-Machine-Learning-CUK/brazilian-ecommerce\")\n",
    "#\"C:\\Users\\Davie\\Documents\\GitHub\\ML-Machine-Learning-CUK\"\n",
    "# Download file\n",
    "response = requests.get(url)\n",
    "#response.raise_for_status()\n",
    "\n",
    "# Unzip directly from memory\n",
    "with zipfile.ZipFile(io.BytesIO(response.content)) as z:\n",
    "    z.extractall(extract_dir)"
   ]
  },
  {
   "cell_type": "code",
   "execution_count": null,
   "id": "5e61c9c5-4d2f-409c-8234-145f3b590d4d",
   "metadata": {},
   "outputs": [],
   "source": [
    "# check dataset names\n",
    "for name in extrat_dir:\n",
    "    print(name)"
   ]
  },
  {
   "cell_type": "code",
   "execution_count": null,
   "id": "a5d69795-aa41-4cff-a6ea-d83b825e2f35",
   "metadata": {},
   "outputs": [],
   "source": [
    "df=pd.read_csv('olist_customers_dataset.csv')\n",
    "df.columns"
   ]
  },
  {
   "cell_type": "code",
   "execution_count": null,
   "id": "3f4757fd-4ddf-4011-871e-fdab049c19a5",
   "metadata": {},
   "outputs": [],
   "source": []
  },
  {
   "cell_type": "code",
   "execution_count": 8,
   "id": "b1fffe5d-74e1-43d3-8a0f-73c4ca6ee866",
   "metadata": {},
   "outputs": [
    {
     "name": "stdout",
     "output_type": "stream",
     "text": [
      "Dataset extracted to: C:\\Users\\Davie/Downloads/brazilian-ecommerce\n"
     ]
    }
   ],
   "source": [
    "import requests\n",
    "import zipfile\n",
    "import io\n",
    "import os\n",
    "\n",
    "# Kaggle dataset download link\n",
    "url = \"https://www.kaggle.com/api/v1/datasets/download/olistbr/brazilian-ecommerce\"\n",
    "\n",
    "# Destination folder\n",
    "extract_dir = os.path.expanduser(\"~/Downloads/brazilian-ecommerce\")\n",
    "\n",
    "# Create folder if not exists\n",
    "os.makedirs(extract_dir, exist_ok=True)\n",
    "\n",
    "# Download file\n",
    "response = requests.get(url)\n",
    "response.raise_for_status()\n",
    "\n",
    "# Unzip directly from memory\n",
    "with zipfile.ZipFile(io.BytesIO(response.content)) as z:\n",
    "    z.extractall(extract_dir)\n",
    "\n",
    "print(f\"Dataset extracted to: {extract_dir}\")"
   ]
  }
 ],
 "metadata": {
  "kernelspec": {
   "display_name": "Python 3 (ipykernel)",
   "language": "python",
   "name": "python3"
  },
  "language_info": {
   "codemirror_mode": {
    "name": "ipython",
    "version": 3
   },
   "file_extension": ".py",
   "mimetype": "text/x-python",
   "name": "python",
   "nbconvert_exporter": "python",
   "pygments_lexer": "ipython3",
   "version": "3.12.11"
  }
 },
 "nbformat": 4,
 "nbformat_minor": 5
}
