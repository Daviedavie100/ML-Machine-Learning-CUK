{
 "cells": [
  {
   "cell_type": "code",
   "execution_count": null,
   "id": "e1f1d5df-c93d-406e-8a12-dbe70ddb958b",
   "metadata": {},
   "outputs": [],
   "source": [
    "# Imports"
   ]
  },
  {
   "cell_type": "code",
   "execution_count": 19,
   "id": "54a56c5e-f3ba-412a-98f1-6c20b2779d4a",
   "metadata": {},
   "outputs": [],
   "source": [
    "# load imports\n",
    "import pandas as pd\n",
    "import requests\n",
    "import zipfile\n",
    "import io\n",
    "import os"
   ]
  },
  {
   "cell_type": "code",
   "execution_count": 12,
   "id": "2f4a28e1-4465-47bc-b055-c89d0d3d2333",
   "metadata": {},
   "outputs": [],
   "source": [
    "# download the datasets from kaggle\n",
    "\n",
    "# Kaggle dataset download link\n",
    "url = \"https://www.kaggle.com/api/v1/datasets/download/olistbr/brazilian-ecommerce\"\n",
    "# Destination folder\n",
    "extract_dir = os.path.expanduser(\"~/Documents/GitHub/ML-Machine-Learning-CUK/brazilian-ecommerce\")\n",
    "#\"C:\\Users\\Davie\\Documents\\GitHub\\ML-Machine-Learning-CUK\"\n",
    "# Download file\n",
    "response = requests.get(url)\n",
    "#response.raise_for_status()\n",
    "\n",
    "# Unzip directly from memory\n",
    "with zipfile.ZipFile(io.BytesIO(response.content)) as z:\n",
    "    z.extractall(extract_dir)"
   ]
  },
  {
   "cell_type": "code",
   "execution_count": null,
   "id": "586062e3-bcc1-4ae9-9eef-fb0339ba03fd",
   "metadata": {},
   "outputs": [],
   "source": []
  },
  {
   "cell_type": "code",
   "execution_count": 20,
   "id": "5e61c9c5-4d2f-409c-8234-145f3b590d4d",
   "metadata": {},
   "outputs": [
    {
     "name": "stdout",
     "output_type": "stream",
     "text": [
      "olist_customers_dataset.csv\n",
      "olist_geolocation_dataset.csv\n",
      "olist_orders_dataset.csv\n",
      "olist_order_items_dataset.csv\n",
      "olist_order_payments_dataset.csv\n",
      "olist_order_reviews_dataset.csv\n",
      "olist_products_dataset.csv\n",
      "olist_sellers_dataset.csv\n",
      "product_category_name_translation.csv\n"
     ]
    }
   ],
   "source": [
    "# check dataset names\n",
    "datasets=os.listdir(extract_dir)\n",
    "for name in datasets:\n",
    "    print(name)"
   ]
  },
  {
   "cell_type": "code",
   "execution_count": 44,
   "id": "8838c31b-a610-4db1-b547-4f99a1abcd52",
   "metadata": {},
   "outputs": [],
   "source": [
    "def open_csv(file_no):\n",
    "    lst=[]\n",
    "    for name in datasets:\n",
    "        lst.append(name)\n",
    "    df=pd.read_csv(lst[file_no], index=0)\n",
    "    return df"
   ]
  },
  {
   "cell_type": "code",
   "execution_count": 45,
   "id": "9eba103f-67f9-4826-8431-722a66eb7359",
   "metadata": {},
   "outputs": [
    {
     "ename": "TypeError",
     "evalue": "read_csv() got an unexpected keyword argument 'Index'",
     "output_type": "error",
     "traceback": [
      "\u001b[31m---------------------------------------------------------------------------\u001b[39m",
      "\u001b[31mTypeError\u001b[39m                                 Traceback (most recent call last)",
      "\u001b[36mCell\u001b[39m\u001b[36m \u001b[39m\u001b[32mIn[45]\u001b[39m\u001b[32m, line 1\u001b[39m\n\u001b[32m----> \u001b[39m\u001b[32m1\u001b[39m customers_dataset=\u001b[43mopen_csv\u001b[49m\u001b[43m(\u001b[49m\u001b[32;43m0\u001b[39;49m\u001b[43m)\u001b[49m\n\u001b[32m      2\u001b[39m customers_dataset\n",
      "\u001b[36mCell\u001b[39m\u001b[36m \u001b[39m\u001b[32mIn[44]\u001b[39m\u001b[32m, line 5\u001b[39m, in \u001b[36mopen_csv\u001b[39m\u001b[34m(file_no)\u001b[39m\n\u001b[32m      3\u001b[39m \u001b[38;5;28;01mfor\u001b[39;00m name \u001b[38;5;129;01min\u001b[39;00m datasets:\n\u001b[32m      4\u001b[39m     lst.append(name)\n\u001b[32m----> \u001b[39m\u001b[32m5\u001b[39m df=\u001b[43mpd\u001b[49m\u001b[43m.\u001b[49m\u001b[43mread_csv\u001b[49m\u001b[43m(\u001b[49m\u001b[43mlst\u001b[49m\u001b[43m[\u001b[49m\u001b[43mfile_no\u001b[49m\u001b[43m]\u001b[49m\u001b[43m,\u001b[49m\u001b[43m \u001b[49m\u001b[43mIndex\u001b[49m\u001b[43m=\u001b[49m\u001b[32;43m0\u001b[39;49m\u001b[43m)\u001b[49m\n\u001b[32m      6\u001b[39m \u001b[38;5;28;01mreturn\u001b[39;00m df\n",
      "\u001b[31mTypeError\u001b[39m: read_csv() got an unexpected keyword argument 'Index'"
     ]
    }
   ],
   "source": [
    "customers_dataset=open_csv(0)\n",
    "customers_dataset"
   ]
  },
  {
   "cell_type": "code",
   "execution_count": 35,
   "id": "ad646a02-ddb7-4d78-b374-4d750a1d4d9b",
   "metadata": {},
   "outputs": [
    {
     "ename": "NameError",
     "evalue": "name 'lst' is not defined",
     "output_type": "error",
     "traceback": [
      "\u001b[31m---------------------------------------------------------------------------\u001b[39m",
      "\u001b[31mNameError\u001b[39m                                 Traceback (most recent call last)",
      "\u001b[36mCell\u001b[39m\u001b[36m \u001b[39m\u001b[32mIn[35]\u001b[39m\u001b[32m, line 1\u001b[39m\n\u001b[32m----> \u001b[39m\u001b[32m1\u001b[39m \u001b[38;5;28mprint\u001b[39m(\u001b[33mf\u001b[39m\u001b[33m'\u001b[39m\u001b[38;5;132;01m{\u001b[39;00m\u001b[43mlst\u001b[49m[\u001b[32m0\u001b[39m]\u001b[38;5;132;01m}\u001b[39;00m\u001b[33m'\u001b[39m)\n",
      "\u001b[31mNameError\u001b[39m: name 'lst' is not defined"
     ]
    }
   ],
   "source": [
    "print(f'{lst[0]}')"
   ]
  },
  {
   "cell_type": "code",
   "execution_count": 54,
   "id": "a5d69795-aa41-4cff-a6ea-d83b825e2f35",
   "metadata": {},
   "outputs": [
    {
     "data": {
      "text/html": [
       "<div>\n",
       "<style scoped>\n",
       "    .dataframe tbody tr th:only-of-type {\n",
       "        vertical-align: middle;\n",
       "    }\n",
       "\n",
       "    .dataframe tbody tr th {\n",
       "        vertical-align: top;\n",
       "    }\n",
       "\n",
       "    .dataframe thead th {\n",
       "        text-align: right;\n",
       "    }\n",
       "</style>\n",
       "<table border=\"1\" class=\"dataframe\">\n",
       "  <thead>\n",
       "    <tr style=\"text-align: right;\">\n",
       "      <th></th>\n",
       "      <th>customer_id</th>\n",
       "      <th>customer_zip_code_prefix</th>\n",
       "      <th>customer_city</th>\n",
       "      <th>customer_state</th>\n",
       "    </tr>\n",
       "    <tr>\n",
       "      <th>customer_unique_id</th>\n",
       "      <th></th>\n",
       "      <th></th>\n",
       "      <th></th>\n",
       "      <th></th>\n",
       "    </tr>\n",
       "  </thead>\n",
       "  <tbody>\n",
       "    <tr>\n",
       "      <th>861eff4711a542e4b93843c6dd7febb0</th>\n",
       "      <td>06b8999e2fba1a1fbc88172c00ba8bc7</td>\n",
       "      <td>14409</td>\n",
       "      <td>franca</td>\n",
       "      <td>SP</td>\n",
       "    </tr>\n",
       "    <tr>\n",
       "      <th>290c77bc529b7ac935b93aa66c333dc3</th>\n",
       "      <td>18955e83d337fd6b2def6b18a428ac77</td>\n",
       "      <td>9790</td>\n",
       "      <td>sao bernardo do campo</td>\n",
       "      <td>SP</td>\n",
       "    </tr>\n",
       "    <tr>\n",
       "      <th>060e732b5b29e8181a18229c7b0b2b5e</th>\n",
       "      <td>4e7b3e00288586ebd08712fdd0374a03</td>\n",
       "      <td>1151</td>\n",
       "      <td>sao paulo</td>\n",
       "      <td>SP</td>\n",
       "    </tr>\n",
       "    <tr>\n",
       "      <th>259dac757896d24d7702b9acbbff3f3c</th>\n",
       "      <td>b2b6027bc5c5109e529d4dc6358b12c3</td>\n",
       "      <td>8775</td>\n",
       "      <td>mogi das cruzes</td>\n",
       "      <td>SP</td>\n",
       "    </tr>\n",
       "    <tr>\n",
       "      <th>345ecd01c38d18a9036ed96c73b8d066</th>\n",
       "      <td>4f2d8ab171c80ec8364f7c12e35b23ad</td>\n",
       "      <td>13056</td>\n",
       "      <td>campinas</td>\n",
       "      <td>SP</td>\n",
       "    </tr>\n",
       "    <tr>\n",
       "      <th>...</th>\n",
       "      <td>...</td>\n",
       "      <td>...</td>\n",
       "      <td>...</td>\n",
       "      <td>...</td>\n",
       "    </tr>\n",
       "    <tr>\n",
       "      <th>1a29b476fee25c95fbafc67c5ac95cf8</th>\n",
       "      <td>17ddf5dd5d51696bb3d7c6291687be6f</td>\n",
       "      <td>3937</td>\n",
       "      <td>sao paulo</td>\n",
       "      <td>SP</td>\n",
       "    </tr>\n",
       "    <tr>\n",
       "      <th>d52a67c98be1cf6a5c84435bd38d095d</th>\n",
       "      <td>e7b71a9017aa05c9a7fd292d714858e8</td>\n",
       "      <td>6764</td>\n",
       "      <td>taboao da serra</td>\n",
       "      <td>SP</td>\n",
       "    </tr>\n",
       "    <tr>\n",
       "      <th>e9f50caf99f032f0bf3c55141f019d99</th>\n",
       "      <td>5e28dfe12db7fb50a4b2f691faecea5e</td>\n",
       "      <td>60115</td>\n",
       "      <td>fortaleza</td>\n",
       "      <td>CE</td>\n",
       "    </tr>\n",
       "    <tr>\n",
       "      <th>73c2643a0a458b49f58cea58833b192e</th>\n",
       "      <td>56b18e2166679b8a959d72dd06da27f9</td>\n",
       "      <td>92120</td>\n",
       "      <td>canoas</td>\n",
       "      <td>RS</td>\n",
       "    </tr>\n",
       "    <tr>\n",
       "      <th>84732c5050c01db9b23e19ba39899398</th>\n",
       "      <td>274fa6071e5e17fe303b9748641082c8</td>\n",
       "      <td>6703</td>\n",
       "      <td>cotia</td>\n",
       "      <td>SP</td>\n",
       "    </tr>\n",
       "  </tbody>\n",
       "</table>\n",
       "<p>99441 rows × 4 columns</p>\n",
       "</div>"
      ],
      "text/plain": [
       "                                                       customer_id  \\\n",
       "customer_unique_id                                                   \n",
       "861eff4711a542e4b93843c6dd7febb0  06b8999e2fba1a1fbc88172c00ba8bc7   \n",
       "290c77bc529b7ac935b93aa66c333dc3  18955e83d337fd6b2def6b18a428ac77   \n",
       "060e732b5b29e8181a18229c7b0b2b5e  4e7b3e00288586ebd08712fdd0374a03   \n",
       "259dac757896d24d7702b9acbbff3f3c  b2b6027bc5c5109e529d4dc6358b12c3   \n",
       "345ecd01c38d18a9036ed96c73b8d066  4f2d8ab171c80ec8364f7c12e35b23ad   \n",
       "...                                                            ...   \n",
       "1a29b476fee25c95fbafc67c5ac95cf8  17ddf5dd5d51696bb3d7c6291687be6f   \n",
       "d52a67c98be1cf6a5c84435bd38d095d  e7b71a9017aa05c9a7fd292d714858e8   \n",
       "e9f50caf99f032f0bf3c55141f019d99  5e28dfe12db7fb50a4b2f691faecea5e   \n",
       "73c2643a0a458b49f58cea58833b192e  56b18e2166679b8a959d72dd06da27f9   \n",
       "84732c5050c01db9b23e19ba39899398  274fa6071e5e17fe303b9748641082c8   \n",
       "\n",
       "                                  customer_zip_code_prefix  \\\n",
       "customer_unique_id                                           \n",
       "861eff4711a542e4b93843c6dd7febb0                     14409   \n",
       "290c77bc529b7ac935b93aa66c333dc3                      9790   \n",
       "060e732b5b29e8181a18229c7b0b2b5e                      1151   \n",
       "259dac757896d24d7702b9acbbff3f3c                      8775   \n",
       "345ecd01c38d18a9036ed96c73b8d066                     13056   \n",
       "...                                                    ...   \n",
       "1a29b476fee25c95fbafc67c5ac95cf8                      3937   \n",
       "d52a67c98be1cf6a5c84435bd38d095d                      6764   \n",
       "e9f50caf99f032f0bf3c55141f019d99                     60115   \n",
       "73c2643a0a458b49f58cea58833b192e                     92120   \n",
       "84732c5050c01db9b23e19ba39899398                      6703   \n",
       "\n",
       "                                          customer_city customer_state  \n",
       "customer_unique_id                                                      \n",
       "861eff4711a542e4b93843c6dd7febb0                 franca             SP  \n",
       "290c77bc529b7ac935b93aa66c333dc3  sao bernardo do campo             SP  \n",
       "060e732b5b29e8181a18229c7b0b2b5e              sao paulo             SP  \n",
       "259dac757896d24d7702b9acbbff3f3c        mogi das cruzes             SP  \n",
       "345ecd01c38d18a9036ed96c73b8d066               campinas             SP  \n",
       "...                                                 ...            ...  \n",
       "1a29b476fee25c95fbafc67c5ac95cf8              sao paulo             SP  \n",
       "d52a67c98be1cf6a5c84435bd38d095d        taboao da serra             SP  \n",
       "e9f50caf99f032f0bf3c55141f019d99              fortaleza             CE  \n",
       "73c2643a0a458b49f58cea58833b192e                 canoas             RS  \n",
       "84732c5050c01db9b23e19ba39899398                  cotia             SP  \n",
       "\n",
       "[99441 rows x 4 columns]"
      ]
     },
     "execution_count": 54,
     "metadata": {},
     "output_type": "execute_result"
    }
   ],
   "source": [
    "dfd=pd.read_csv('olist_customers_dataset.csv', index_col=1)\n",
    "dfd"
   ]
  },
  {
   "cell_type": "code",
   "execution_count": null,
   "id": "3f4757fd-4ddf-4011-871e-fdab049c19a5",
   "metadata": {},
   "outputs": [],
   "source": []
  },
  {
   "cell_type": "code",
   "execution_count": 8,
   "id": "b1fffe5d-74e1-43d3-8a0f-73c4ca6ee866",
   "metadata": {},
   "outputs": [
    {
     "name": "stdout",
     "output_type": "stream",
     "text": [
      "Dataset extracted to: C:\\Users\\Davie/Downloads/brazilian-ecommerce\n"
     ]
    }
   ],
   "source": [
    "import requests\n",
    "import zipfile\n",
    "import io\n",
    "import os\n",
    "\n",
    "# Kaggle dataset download link\n",
    "url = \"https://www.kaggle.com/api/v1/datasets/download/olistbr/brazilian-ecommerce\"\n",
    "\n",
    "# Destination folder\n",
    "extract_dir = os.path.expanduser(\"~/Downloads/brazilian-ecommerce\")\n",
    "\n",
    "# Create folder if not exists\n",
    "os.makedirs(extract_dir, exist_ok=True)\n",
    "\n",
    "# Download file\n",
    "response = requests.get(url)\n",
    "response.raise_for_status()\n",
    "\n",
    "# Unzip directly from memory\n",
    "with zipfile.ZipFile(io.BytesIO(response.content)) as z:\n",
    "    z.extractall(extract_dir)\n",
    "\n",
    "print(f\"Dataset extracted to: {extract_dir}\")"
   ]
  }
 ],
 "metadata": {
  "kernelspec": {
   "display_name": "Python 3 (ipykernel)",
   "language": "python",
   "name": "python3"
  },
  "language_info": {
   "codemirror_mode": {
    "name": "ipython",
    "version": 3
   },
   "file_extension": ".py",
   "mimetype": "text/x-python",
   "name": "python",
   "nbconvert_exporter": "python",
   "pygments_lexer": "ipython3",
   "version": "3.12.11"
  }
 },
 "nbformat": 4,
 "nbformat_minor": 5
}
